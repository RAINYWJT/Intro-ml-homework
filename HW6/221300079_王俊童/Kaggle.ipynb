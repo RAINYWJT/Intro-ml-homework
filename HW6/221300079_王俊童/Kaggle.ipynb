{
 "cells": [
  {
   "cell_type": "markdown",
   "metadata": {},
   "source": [
    "<h1 style=\"text-align: center\">机器学习导论习题六</h1>\n",
    "\n",
    "<h2 style=\"text-align: center;\">221300079, 王俊童, <a href=\"mailto:221300079@smail.nju.edu.cn\">221300079@smail.nju.edu.cn</a></h2>\n",
    "\n",
    "1. **10pts** **成功参赛**  成功提交私榜不低于 Baseline 1 的预测结果, <b><font color=\"red\">队伍名称必须包含学号</font></b>. 比赛链接为 https://www.kaggle.com/t/34bc38e3ee15438fbbb40c8ef54adc3d, 比赛时间为 <b><font color=\"red\">6月25日至7月10日</font></b>.\n",
    "2. **25pts** **比赛排名** 预测结果在私榜不低于 Baseline 2 或者 Baseline 3 任一的前提下, 按照下式赋分: $10 + 15 \\times \\left( 1 - \\frac{\\textrm{你的排名} - 1}{\\textrm{达到 baseline 的总人数}} \\right)$. <b><font color=\"red\">请确保<code>Kaggle.ipynb</code>能够复现你的结果.</font></b>"
   ]
  },
  {
   "cell_type": "code",
   "execution_count": null,
   "metadata": {},
   "outputs": [],
   "source": [
    "# 用于记录每个单元格的运行时间\n",
    "\n",
    "try:\n",
    "    %load_ext autotime\n",
    "except:\n",
    "    !pip install ipython-autotime\n",
    "    %load_ext autotime"
   ]
  },
  {
   "cell_type": "code",
   "execution_count": 5,
   "metadata": {},
   "outputs": [
    {
     "name": "stdout",
     "output_type": "stream",
     "text": [
      "time: 15 ms (started: 2024-06-26 15:26:52 +08:00)\n"
     ]
    }
   ],
   "source": [
    "import os\n",
    "import re\n",
    "import glob\n",
    "import time\n",
    "import random\n",
    "import datetime\n",
    "import multiprocessing as mp\n",
    "import numpy as np\n",
    "import pandas as pd\n",
    "import sklearn\n",
    "import joblib\n",
    "import torch\n",
    "import matplotlib\n",
    "import matplotlib.pyplot as plt\n",
    "import seaborn as sns\n",
    "import optuna\n",
    "from sklearn.svm import SVC\n",
    "from sklearn.model_selection import GridSearchCV\n",
    "from sklearn.metrics import accuracy_score\n",
    "\n",
    "%matplotlib inline\n",
    "\n",
    "matplotlib.rcParams['figure.dpi'] = 128\n",
    "matplotlib.rcParams['figure.figsize'] = (8, 6)"
   ]
  },
  {
   "cell_type": "code",
   "execution_count": 6,
   "metadata": {},
   "outputs": [
    {
     "name": "stdout",
     "output_type": "stream",
     "text": [
      "time: 47 ms (started: 2024-06-26 15:26:54 +08:00)\n"
     ]
    }
   ],
   "source": [
    "# 固定随机数种子\n",
    "\n",
    "GLOBAL_SEED = 0\n",
    "\n",
    "def fix_seed(seed: int) -> None:\n",
    "    random.seed(seed)\n",
    "    np.random.seed(seed)\n",
    "    torch.manual_seed(seed)\n",
    "\n",
    "fix_seed(GLOBAL_SEED)"
   ]
  },
  {
   "cell_type": "code",
   "execution_count": 7,
   "metadata": {},
   "outputs": [
    {
     "name": "stdout",
     "output_type": "stream",
     "text": [
      "time: 3.55 s (started: 2024-06-26 15:26:56 +08:00)\n"
     ]
    }
   ],
   "source": [
    "# 加载数据\n",
    "\n",
    "df_train_x = pd.read_csv('kaggle-data/train_x.csv', index_col='id')\n",
    "df_train_y = pd.read_csv('kaggle-data/train_y.csv', index_col='id')\n",
    "df_test_x = pd.read_csv('kaggle-data/test_x.csv', index_col='id')\n",
    "df_test_y_demo = pd.read_csv('kaggle-data/test_y_demo.csv', index_col='id')\n",
    "\n",
    "train_x = df_train_x.values\n",
    "train_y = df_train_y.values.reshape((-1,))\n",
    "test_x = df_test_x.values"
   ]
  },
  {
   "cell_type": "code",
   "execution_count": 8,
   "metadata": {},
   "outputs": [
    {
     "name": "stdout",
     "output_type": "stream",
     "text": [
      "time: 125 ms (started: 2024-06-26 15:27:11 +08:00)\n"
     ]
    }
   ],
   "source": [
    "def standardize(x, mu=None, sigma=None):\n",
    "    if mu is None:\n",
    "        mu = np.mean(x, axis=0)\n",
    "    if sigma is None:\n",
    "        sigma = np.std(x, axis=0) + 1e-3\n",
    "    return (x - mu) / sigma, mu, sigma\n",
    "\n",
    "train_x, mu, sigma = standardize(train_x)\n",
    "test_x, _, _ = standardize(test_x, mu, sigma)\n",
    "\n",
    "param_grid = {\n",
    "    'C': [0.1, 1, 10, 100],\n",
    "    'kernel': ['linear', 'rbf', 'poly'],\n",
    "    'gamma': ['scale', 'auto', 0.1, 1, 10],\n",
    "    'degree': [2, 3, 4] \n",
    "}\n",
    "\n",
    "svc = SVC(random_state=GLOBAL_SEED)\n",
    "grid_search = GridSearchCV(estimator=svc, param_grid=param_grid, cv=5, scoring='accuracy', n_jobs=-1)\n",
    "grid_search.fit(train_x, train_y)\n",
    "print(\"Best parameters found: \", grid_search.best_params_)\n",
    "best_svc = grid_search.best_estimator_\n",
    "test_y = best_svc.predict(test_x)\n",
    "df = pd.read_csv('kaggle-data/test_y_demo.csv', index_col='id')\n",
    "df['y'] = test_y  \n",
    "df.to_csv('test_y.csv')"
   ]
  },
  {
   "cell_type": "markdown",
   "metadata": {},
   "source": [
    "# 致谢\n",
    "\n",
    "<h2>允许与其他同样未完成作业的同学讨论作业的内容, 但需在此注明并加以致谢; 如在作业过程中, 参考了互联网上的资料或大语言模型的生成结果, 且对完成作业有帮助的, 亦需注明并致谢.</h2>"
   ]
  }
 ],
 "metadata": {
  "kernelspec": {
   "display_name": "Python 3 (ipykernel)",
   "language": "python",
   "name": "python3"
  },
  "language_info": {
   "codemirror_mode": {
    "name": "ipython",
    "version": 3
   },
   "file_extension": ".py",
   "mimetype": "text/x-python",
   "name": "python",
   "nbconvert_exporter": "python",
   "pygments_lexer": "ipython3",
   "version": "3.12.2"
  }
 },
 "nbformat": 4,
 "nbformat_minor": 4
}
